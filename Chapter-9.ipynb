{
 "cells": [
  {
   "cell_type": "code",
   "execution_count": 1,
   "id": "672cc907",
   "metadata": {},
   "outputs": [
    {
     "name": "stdout",
     "output_type": "stream",
     "text": [
      "{' money': 12, ' candy': 3, ' tissues': 75}\n"
     ]
    }
   ],
   "source": [
    "purse = dict()\n",
    "purse [' money']= 12\n",
    "purse [' candy']= 3\n",
    "purse [' tissues']= 75\n",
    "print( purse)"
   ]
  },
  {
   "cell_type": "code",
   "execution_count": 7,
   "id": "b31dac30",
   "metadata": {},
   "outputs": [
    {
     "name": "stdout",
     "output_type": "stream",
     "text": [
      "5\n"
     ]
    }
   ],
   "source": [
    "print(purse[' candy'])"
   ]
  },
  {
   "cell_type": "code",
   "execution_count": 6,
   "id": "e5c7c741",
   "metadata": {},
   "outputs": [
    {
     "name": "stdout",
     "output_type": "stream",
     "text": [
      "{' money': 12, ' candy': 5, ' tissues': 75}\n"
     ]
    }
   ],
   "source": [
    "purse [' candy']= purse [' candy']+ 2\n",
    "print( purse)"
   ]
  },
  {
   "cell_type": "code",
   "execution_count": 9,
   "id": "13b21901",
   "metadata": {},
   "outputs": [
    {
     "name": "stdout",
     "output_type": "stream",
     "text": [
      "{' age': 21, ' course': 182}\n"
     ]
    }
   ],
   "source": [
    "ddd =dict()\n",
    "ddd [' age'] = 21\n",
    "ddd [' course'] = 182\n",
    "print( ddd)"
   ]
  },
  {
   "cell_type": "code",
   "execution_count": 10,
   "id": "7cb04d37",
   "metadata": {},
   "outputs": [
    {
     "name": "stdout",
     "output_type": "stream",
     "text": [
      "{' age': 23, ' course': 182}\n"
     ]
    }
   ],
   "source": [
    "ddd [' age'] = 23\n",
    "print( ddd)"
   ]
  },
  {
   "cell_type": "code",
   "execution_count": 12,
   "id": "ced2363a",
   "metadata": {},
   "outputs": [
    {
     "name": "stdout",
     "output_type": "stream",
     "text": [
      "{'chuck ': 1, 'fred ': 42, 'jan ': 100}\n"
     ]
    }
   ],
   "source": [
    "jjj = { 'chuck ' : 1 , 'fred ' : 42 , 'jan ': 100}\n",
    "print( jjj)"
   ]
  },
  {
   "cell_type": "code",
   "execution_count": 13,
   "id": "04a96316",
   "metadata": {},
   "outputs": [
    {
     "name": "stdout",
     "output_type": "stream",
     "text": [
      "{}\n"
     ]
    }
   ],
   "source": [
    "ooo ={}\n",
    "print( ooo)"
   ]
  },
  {
   "cell_type": "code",
   "execution_count": 14,
   "id": "f173c4f6",
   "metadata": {},
   "outputs": [
    {
     "name": "stdout",
     "output_type": "stream",
     "text": [
      "{'csev ': 1, 'cwen ': 1}\n"
     ]
    }
   ],
   "source": [
    "ccc = dict()\n",
    "ccc[ 'csev '] = 1\n",
    "ccc ['cwen '] = 1\n",
    "print( ccc)"
   ]
  },
  {
   "cell_type": "code",
   "execution_count": 16,
   "id": "0ef3b50b",
   "metadata": {},
   "outputs": [
    {
     "name": "stdout",
     "output_type": "stream",
     "text": [
      "{'csev ': 1, 'cwen ': 2}\n"
     ]
    }
   ],
   "source": [
    "ccc ['cwen '] = ccc['cwen '] + 1\n",
    "print( ccc)"
   ]
  },
  {
   "cell_type": "code",
   "execution_count": 17,
   "id": "330446a9",
   "metadata": {},
   "outputs": [
    {
     "data": {
      "text/plain": [
       "True"
      ]
     },
     "execution_count": 17,
     "metadata": {},
     "output_type": "execute_result"
    }
   ],
   "source": [
    "'csev ' in ccc"
   ]
  },
  {
   "cell_type": "code",
   "execution_count": 22,
   "id": "81b064d3",
   "metadata": {},
   "outputs": [
    {
     "name": "stdout",
     "output_type": "stream",
     "text": [
      "{'csev ': 2, 'cwen ': 1, 'zqian ': 1, 'cwen': 1}\n"
     ]
    }
   ],
   "source": [
    "counts= dict()\n",
    "names= ['csev ', 'cwen ', 'csev ', 'zqian ', 'cwen']\n",
    "for name in names:\n",
    "    if name not in counts:\n",
    "        counts[name]= 1\n",
    "    else:\n",
    "        counts[name]= counts [ name]+ 1\n",
    "print(counts)"
   ]
  },
  {
   "cell_type": "code",
   "execution_count": 27,
   "id": "ddc06c55",
   "metadata": {},
   "outputs": [
    {
     "name": "stdout",
     "output_type": "stream",
     "text": [
      "1\n"
     ]
    }
   ],
   "source": [
    "if name in counts:\n",
    "    x =counts[name]\n",
    "else:\n",
    "    x =0\n",
    "    x =counts.get(name , 0)\n",
    "print(x)"
   ]
  },
  {
   "cell_type": "code",
   "execution_count": 29,
   "id": "64517f6d",
   "metadata": {},
   "outputs": [
    {
     "name": "stdout",
     "output_type": "stream",
     "text": [
      "{'csev ': 2, 'cwen ': 1, 'zqian ': 1, 'cwen': 1}\n"
     ]
    }
   ],
   "source": [
    "counts= dict()\n",
    "names=['csev ', 'cwen ', 'csev ', 'zqian ', 'cwen']\n",
    "for name in names:\n",
    "    counts[name]= (counts.get(name, 0 ))+ 1\n",
    "print(counts)"
   ]
  },
  {
   "cell_type": "code",
   "execution_count": 1,
   "id": "7ebdb286",
   "metadata": {},
   "outputs": [
    {
     "name": "stdout",
     "output_type": "stream",
     "text": [
      "Enter a line of text:\n",
      "The general pattern to count the words in a line of text is to split the line into words, then loop through the words and use a dictionary to track the count of each word independently.\n",
      "words: ['The', 'general', 'pattern', 'to', 'count', 'the', 'words', 'in', 'a', 'line', 'of', 'text', 'is', 'to', 'split', 'the', 'line', 'into', 'words,', 'then', 'loop', 'through', 'the', 'words', 'and', 'use', 'a', 'dictionary', 'to', 'track', 'the', 'count', 'of', 'each', 'word', 'independently.']\n",
      "Counting.......\n",
      "Counts: {'The': 1}\n",
      "Counts: {'The': 1, 'general': 1}\n",
      "Counts: {'The': 1, 'general': 1, 'pattern': 1}\n",
      "Counts: {'The': 1, 'general': 1, 'pattern': 1, 'to': 1}\n",
      "Counts: {'The': 1, 'general': 1, 'pattern': 1, 'to': 1, 'count': 1}\n",
      "Counts: {'The': 1, 'general': 1, 'pattern': 1, 'to': 1, 'count': 1, 'the': 1}\n",
      "Counts: {'The': 1, 'general': 1, 'pattern': 1, 'to': 1, 'count': 1, 'the': 1, 'words': 1}\n",
      "Counts: {'The': 1, 'general': 1, 'pattern': 1, 'to': 1, 'count': 1, 'the': 1, 'words': 1, 'in': 1}\n",
      "Counts: {'The': 1, 'general': 1, 'pattern': 1, 'to': 1, 'count': 1, 'the': 1, 'words': 1, 'in': 1, 'a': 1}\n",
      "Counts: {'The': 1, 'general': 1, 'pattern': 1, 'to': 1, 'count': 1, 'the': 1, 'words': 1, 'in': 1, 'a': 1, 'line': 1}\n",
      "Counts: {'The': 1, 'general': 1, 'pattern': 1, 'to': 1, 'count': 1, 'the': 1, 'words': 1, 'in': 1, 'a': 1, 'line': 1, 'of': 1}\n",
      "Counts: {'The': 1, 'general': 1, 'pattern': 1, 'to': 1, 'count': 1, 'the': 1, 'words': 1, 'in': 1, 'a': 1, 'line': 1, 'of': 1, 'text': 1}\n",
      "Counts: {'The': 1, 'general': 1, 'pattern': 1, 'to': 1, 'count': 1, 'the': 1, 'words': 1, 'in': 1, 'a': 1, 'line': 1, 'of': 1, 'text': 1, 'is': 1}\n",
      "Counts: {'The': 1, 'general': 1, 'pattern': 1, 'to': 2, 'count': 1, 'the': 1, 'words': 1, 'in': 1, 'a': 1, 'line': 1, 'of': 1, 'text': 1, 'is': 1}\n",
      "Counts: {'The': 1, 'general': 1, 'pattern': 1, 'to': 2, 'count': 1, 'the': 1, 'words': 1, 'in': 1, 'a': 1, 'line': 1, 'of': 1, 'text': 1, 'is': 1, 'split': 1}\n",
      "Counts: {'The': 1, 'general': 1, 'pattern': 1, 'to': 2, 'count': 1, 'the': 2, 'words': 1, 'in': 1, 'a': 1, 'line': 1, 'of': 1, 'text': 1, 'is': 1, 'split': 1}\n",
      "Counts: {'The': 1, 'general': 1, 'pattern': 1, 'to': 2, 'count': 1, 'the': 2, 'words': 1, 'in': 1, 'a': 1, 'line': 2, 'of': 1, 'text': 1, 'is': 1, 'split': 1}\n",
      "Counts: {'The': 1, 'general': 1, 'pattern': 1, 'to': 2, 'count': 1, 'the': 2, 'words': 1, 'in': 1, 'a': 1, 'line': 2, 'of': 1, 'text': 1, 'is': 1, 'split': 1, 'into': 1}\n",
      "Counts: {'The': 1, 'general': 1, 'pattern': 1, 'to': 2, 'count': 1, 'the': 2, 'words': 1, 'in': 1, 'a': 1, 'line': 2, 'of': 1, 'text': 1, 'is': 1, 'split': 1, 'into': 1, 'words,': 1}\n",
      "Counts: {'The': 1, 'general': 1, 'pattern': 1, 'to': 2, 'count': 1, 'the': 2, 'words': 1, 'in': 1, 'a': 1, 'line': 2, 'of': 1, 'text': 1, 'is': 1, 'split': 1, 'into': 1, 'words,': 1, 'then': 1}\n",
      "Counts: {'The': 1, 'general': 1, 'pattern': 1, 'to': 2, 'count': 1, 'the': 2, 'words': 1, 'in': 1, 'a': 1, 'line': 2, 'of': 1, 'text': 1, 'is': 1, 'split': 1, 'into': 1, 'words,': 1, 'then': 1, 'loop': 1}\n",
      "Counts: {'The': 1, 'general': 1, 'pattern': 1, 'to': 2, 'count': 1, 'the': 2, 'words': 1, 'in': 1, 'a': 1, 'line': 2, 'of': 1, 'text': 1, 'is': 1, 'split': 1, 'into': 1, 'words,': 1, 'then': 1, 'loop': 1, 'through': 1}\n",
      "Counts: {'The': 1, 'general': 1, 'pattern': 1, 'to': 2, 'count': 1, 'the': 3, 'words': 1, 'in': 1, 'a': 1, 'line': 2, 'of': 1, 'text': 1, 'is': 1, 'split': 1, 'into': 1, 'words,': 1, 'then': 1, 'loop': 1, 'through': 1}\n",
      "Counts: {'The': 1, 'general': 1, 'pattern': 1, 'to': 2, 'count': 1, 'the': 3, 'words': 2, 'in': 1, 'a': 1, 'line': 2, 'of': 1, 'text': 1, 'is': 1, 'split': 1, 'into': 1, 'words,': 1, 'then': 1, 'loop': 1, 'through': 1}\n",
      "Counts: {'The': 1, 'general': 1, 'pattern': 1, 'to': 2, 'count': 1, 'the': 3, 'words': 2, 'in': 1, 'a': 1, 'line': 2, 'of': 1, 'text': 1, 'is': 1, 'split': 1, 'into': 1, 'words,': 1, 'then': 1, 'loop': 1, 'through': 1, 'and': 1}\n",
      "Counts: {'The': 1, 'general': 1, 'pattern': 1, 'to': 2, 'count': 1, 'the': 3, 'words': 2, 'in': 1, 'a': 1, 'line': 2, 'of': 1, 'text': 1, 'is': 1, 'split': 1, 'into': 1, 'words,': 1, 'then': 1, 'loop': 1, 'through': 1, 'and': 1, 'use': 1}\n",
      "Counts: {'The': 1, 'general': 1, 'pattern': 1, 'to': 2, 'count': 1, 'the': 3, 'words': 2, 'in': 1, 'a': 2, 'line': 2, 'of': 1, 'text': 1, 'is': 1, 'split': 1, 'into': 1, 'words,': 1, 'then': 1, 'loop': 1, 'through': 1, 'and': 1, 'use': 1}\n",
      "Counts: {'The': 1, 'general': 1, 'pattern': 1, 'to': 2, 'count': 1, 'the': 3, 'words': 2, 'in': 1, 'a': 2, 'line': 2, 'of': 1, 'text': 1, 'is': 1, 'split': 1, 'into': 1, 'words,': 1, 'then': 1, 'loop': 1, 'through': 1, 'and': 1, 'use': 1, 'dictionary': 1}\n",
      "Counts: {'The': 1, 'general': 1, 'pattern': 1, 'to': 3, 'count': 1, 'the': 3, 'words': 2, 'in': 1, 'a': 2, 'line': 2, 'of': 1, 'text': 1, 'is': 1, 'split': 1, 'into': 1, 'words,': 1, 'then': 1, 'loop': 1, 'through': 1, 'and': 1, 'use': 1, 'dictionary': 1}\n",
      "Counts: {'The': 1, 'general': 1, 'pattern': 1, 'to': 3, 'count': 1, 'the': 3, 'words': 2, 'in': 1, 'a': 2, 'line': 2, 'of': 1, 'text': 1, 'is': 1, 'split': 1, 'into': 1, 'words,': 1, 'then': 1, 'loop': 1, 'through': 1, 'and': 1, 'use': 1, 'dictionary': 1, 'track': 1}\n",
      "Counts: {'The': 1, 'general': 1, 'pattern': 1, 'to': 3, 'count': 1, 'the': 4, 'words': 2, 'in': 1, 'a': 2, 'line': 2, 'of': 1, 'text': 1, 'is': 1, 'split': 1, 'into': 1, 'words,': 1, 'then': 1, 'loop': 1, 'through': 1, 'and': 1, 'use': 1, 'dictionary': 1, 'track': 1}\n",
      "Counts: {'The': 1, 'general': 1, 'pattern': 1, 'to': 3, 'count': 2, 'the': 4, 'words': 2, 'in': 1, 'a': 2, 'line': 2, 'of': 1, 'text': 1, 'is': 1, 'split': 1, 'into': 1, 'words,': 1, 'then': 1, 'loop': 1, 'through': 1, 'and': 1, 'use': 1, 'dictionary': 1, 'track': 1}\n",
      "Counts: {'The': 1, 'general': 1, 'pattern': 1, 'to': 3, 'count': 2, 'the': 4, 'words': 2, 'in': 1, 'a': 2, 'line': 2, 'of': 2, 'text': 1, 'is': 1, 'split': 1, 'into': 1, 'words,': 1, 'then': 1, 'loop': 1, 'through': 1, 'and': 1, 'use': 1, 'dictionary': 1, 'track': 1}\n",
      "Counts: {'The': 1, 'general': 1, 'pattern': 1, 'to': 3, 'count': 2, 'the': 4, 'words': 2, 'in': 1, 'a': 2, 'line': 2, 'of': 2, 'text': 1, 'is': 1, 'split': 1, 'into': 1, 'words,': 1, 'then': 1, 'loop': 1, 'through': 1, 'and': 1, 'use': 1, 'dictionary': 1, 'track': 1, 'each': 1}\n",
      "Counts: {'The': 1, 'general': 1, 'pattern': 1, 'to': 3, 'count': 2, 'the': 4, 'words': 2, 'in': 1, 'a': 2, 'line': 2, 'of': 2, 'text': 1, 'is': 1, 'split': 1, 'into': 1, 'words,': 1, 'then': 1, 'loop': 1, 'through': 1, 'and': 1, 'use': 1, 'dictionary': 1, 'track': 1, 'each': 1, 'word': 1}\n",
      "Counts: {'The': 1, 'general': 1, 'pattern': 1, 'to': 3, 'count': 2, 'the': 4, 'words': 2, 'in': 1, 'a': 2, 'line': 2, 'of': 2, 'text': 1, 'is': 1, 'split': 1, 'into': 1, 'words,': 1, 'then': 1, 'loop': 1, 'through': 1, 'and': 1, 'use': 1, 'dictionary': 1, 'track': 1, 'each': 1, 'word': 1, 'independently.': 1}\n"
     ]
    }
   ],
   "source": [
    "counts = dict()\n",
    "print('Enter a line of text:')\n",
    "line = input('')\n",
    "words =line.split()\n",
    "\n",
    "print('words:',words)\n",
    "\n",
    "print('Counting.......')\n",
    "for word in words:\n",
    "    counts[word]= counts.get(word,0) + 1\n",
    "    print('Counts:',counts)"
   ]
  },
  {
   "cell_type": "code",
   "execution_count": 2,
   "id": "3898e7c0",
   "metadata": {},
   "outputs": [
    {
     "name": "stdout",
     "output_type": "stream",
     "text": [
      "chuck 1\n",
      "fred 42\n",
      "jan 100\n"
     ]
    }
   ],
   "source": [
    "counts ={'chuck' :1,'fred' :42, 'jan':100}\n",
    "for key in counts:\n",
    "    print(key, counts[key])\n",
    "    "
   ]
  },
  {
   "cell_type": "code",
   "execution_count": 3,
   "id": "db89cf5a",
   "metadata": {},
   "outputs": [
    {
     "name": "stdout",
     "output_type": "stream",
     "text": [
      "['chuck', 'fred', 'jan']\n"
     ]
    }
   ],
   "source": [
    "jjj={'chuck' :1,'fred' :42, 'jan':100}\n",
    "print(list(jjj))"
   ]
  },
  {
   "cell_type": "code",
   "execution_count": 5,
   "id": "2425dba4",
   "metadata": {},
   "outputs": [
    {
     "name": "stdout",
     "output_type": "stream",
     "text": [
      "dict_keys(['chuck', 'fred', 'jan'])\n"
     ]
    }
   ],
   "source": [
    "print(jjj.keys())"
   ]
  },
  {
   "cell_type": "code",
   "execution_count": 6,
   "id": "5e74b982",
   "metadata": {},
   "outputs": [
    {
     "name": "stdout",
     "output_type": "stream",
     "text": [
      "dict_values([1, 42, 100])\n"
     ]
    }
   ],
   "source": [
    "print(jjj.values())"
   ]
  },
  {
   "cell_type": "code",
   "execution_count": 7,
   "id": "05506ddd",
   "metadata": {},
   "outputs": [
    {
     "name": "stdout",
     "output_type": "stream",
     "text": [
      "dict_items([('chuck', 1), ('fred', 42), ('jan', 100)])\n"
     ]
    }
   ],
   "source": [
    "print(jjj.items())"
   ]
  },
  {
   "cell_type": "code",
   "execution_count": 8,
   "id": "38044cdf",
   "metadata": {},
   "outputs": [
    {
     "name": "stdout",
     "output_type": "stream",
     "text": [
      "chuck 1\n",
      "fred 42\n",
      "jan 100\n"
     ]
    }
   ],
   "source": [
    "jjj={'chuck' :1,'fred' :42, 'jan':100}\n",
    "for aaa,bbb in jjj.items():\n",
    "    print(aaa,bbb)"
   ]
  },
  {
   "cell_type": "code",
   "execution_count": 10,
   "id": "dcf3f220",
   "metadata": {},
   "outputs": [
    {
     "name": "stdout",
     "output_type": "stream",
     "text": [
      "Enter file:words.txt\n",
      "mind-numbing 16\n"
     ]
    }
   ],
   "source": [
    "name = input(\"Enter file:\")\n",
    "handle = open(name)\n",
    "\n",
    "counts = dict()\n",
    "for line in handle:\n",
    "    words =line.split()\n",
    "    for word in words:\n",
    "        counts[word]= counts.get(word,0) + 1\n",
    "bigcount=None\n",
    "bigword=None\n",
    "for words,count in counts.items():\n",
    "    if bigcount is None or count > bigcount:\n",
    "        bigword =word\n",
    "        bigcount =count\n",
    "print(bigword,bigcount)"
   ]
  },
  {
   "cell_type": "code",
   "execution_count": null,
   "id": "d754c7fc",
   "metadata": {},
   "outputs": [],
   "source": []
  }
 ],
 "metadata": {
  "kernelspec": {
   "display_name": "Python 3 (ipykernel)",
   "language": "python",
   "name": "python3"
  },
  "language_info": {
   "codemirror_mode": {
    "name": "ipython",
    "version": 3
   },
   "file_extension": ".py",
   "mimetype": "text/x-python",
   "name": "python",
   "nbconvert_exporter": "python",
   "pygments_lexer": "ipython3",
   "version": "3.10.9"
  }
 },
 "nbformat": 4,
 "nbformat_minor": 5
}
