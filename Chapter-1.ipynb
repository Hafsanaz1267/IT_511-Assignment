{
 "cells": [
  {
   "cell_type": "code",
   "execution_count": 1,
   "id": "526b6ec5",
   "metadata": {},
   "outputs": [
    {
     "name": "stdout",
     "output_type": "stream",
     "text": [
      "Hello World\n"
     ]
    }
   ],
   "source": [
    "print(\"Hello World\")"
   ]
  },
  {
   "cell_type": "markdown",
   "id": "7686361d",
   "metadata": {},
   "source": [
    "# Chapter 1"
   ]
  },
  {
   "cell_type": "code",
   "execution_count": 2,
   "id": "a37993cd",
   "metadata": {},
   "outputs": [],
   "source": [
    "x = 5\n",
    "x= x+5"
   ]
  },
  {
   "cell_type": "code",
   "execution_count": 3,
   "id": "c6637c28",
   "metadata": {},
   "outputs": [
    {
     "name": "stdout",
     "output_type": "stream",
     "text": [
      "10\n"
     ]
    }
   ],
   "source": [
    "print(x)"
   ]
  },
  {
   "cell_type": "code",
   "execution_count": 4,
   "id": "343cab02",
   "metadata": {},
   "outputs": [
    {
     "name": "stdout",
     "output_type": "stream",
     "text": [
      "give value of x = 5\n",
      "give valu of y = 3\n"
     ]
    }
   ],
   "source": [
    "x = input('give value of x = ')\n",
    "y = input('give valu of y = ')"
   ]
  },
  {
   "cell_type": "code",
   "execution_count": 5,
   "id": "bfea9f93",
   "metadata": {},
   "outputs": [],
   "source": [
    "z = int(x) + int(y)"
   ]
  },
  {
   "cell_type": "code",
   "execution_count": 6,
   "id": "ecf09b63",
   "metadata": {},
   "outputs": [
    {
     "name": "stdout",
     "output_type": "stream",
     "text": [
      "8\n"
     ]
    }
   ],
   "source": [
    "print(z)"
   ]
  },
  {
   "cell_type": "code",
   "execution_count": null,
   "id": "4e9e9382",
   "metadata": {},
   "outputs": [],
   "source": []
  }
 ],
 "metadata": {
  "kernelspec": {
   "display_name": "Python 3 (ipykernel)",
   "language": "python",
   "name": "python3"
  },
  "language_info": {
   "codemirror_mode": {
    "name": "ipython",
    "version": 3
   },
   "file_extension": ".py",
   "mimetype": "text/x-python",
   "name": "python",
   "nbconvert_exporter": "python",
   "pygments_lexer": "ipython3",
   "version": "3.10.9"
  }
 },
 "nbformat": 4,
 "nbformat_minor": 5
}
